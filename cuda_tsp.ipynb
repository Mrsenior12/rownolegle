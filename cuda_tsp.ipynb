{
 "cells": [
  {
   "cell_type": "code",
   "execution_count": 179,
   "metadata": {},
   "outputs": [],
   "source": [
    "import numpy as np\n",
    "from numba import jit\n",
    "import cupy as cp\n",
    "from random import randint\n",
    "from time import time\n",
    "from itertools import permutations\n",
    "\n"
   ]
  },
  {
   "cell_type": "code",
   "execution_count": 180,
   "metadata": {},
   "outputs": [],
   "source": [
    "def create_matrix(city_count):\n",
    "    city_list = np.zeros(shape=(city_count,city_count))\n",
    "    for row in range(city_count):\n",
    "        for column in range(city_count):\n",
    "            if column==row:\n",
    "                continue\n",
    "            elif column < row:\n",
    "                city_list[row][column] = city_list[column][row]\n",
    "            else:\n",
    "                city_list[row][column] = randint(1,100)\n",
    "    return city_list\n"
   ]
  },
  {
   "cell_type": "code",
   "execution_count": 181,
   "metadata": {},
   "outputs": [],
   "source": [
    "jit(nopython=True)\n",
    "def permutations_fast(lista):\n",
    "    if len(lista) == 0:\n",
    "        return []\n",
    "    if len(lista)==1:\n",
    "        return [lista]\n",
    "    permList = []\n",
    "    for i in range(len(lista)):\n",
    "        m = lista[i]\n",
    "        remLista = lista[:i] + lista[i+1:]\n",
    "        for p in permutations_fast(remLista):\n",
    "            permList.append([m] + p)\n",
    "    \n",
    "    return permList\n"
   ]
  },
  {
   "cell_type": "code",
   "execution_count": 182,
   "metadata": {},
   "outputs": [],
   "source": [
    "jit(nopython=True)\n",
    "def do_sum_fast(city_matrix,path):\n",
    "    sum_of_path = 0\n",
    "    starting_city = path[0]\n",
    "    path_lenght = np.zeros(len(path))\n",
    "    for city in range(len(path)-1):\n",
    "        path_lenght[city] = city_matrix[starting_city][path[city+1]]\n",
    "        starting_city = path[city+1]\n",
    "\n",
    "    path_lenght[-1] = city_matrix[starting_city][path[0]] \n",
    "    sum_of_path = np.sum(path_lenght)\n",
    "    return sum_of_path"
   ]
  },
  {
   "cell_type": "code",
   "execution_count": 183,
   "metadata": {},
   "outputs": [],
   "source": [
    "jit(nopython=True)\n",
    "def tsp_fast(city_numbers,city_matrix):\n",
    "    min_path = 999999999\n",
    "    path = []\n",
    "    for perm in permutations(city_numbers):\n",
    "        sum_of_perm = do_sum_fast(city_matrix,perm)\n",
    "        if sum_of_perm < min_path:\n",
    "            min_path = sum_of_perm\n",
    "            path = perm\n",
    "    return (path,min_path)\n"
   ]
  },
  {
   "cell_type": "code",
   "execution_count": 185,
   "metadata": {},
   "outputs": [
    {
     "name": "stdout",
     "output_type": "stream",
     "text": [
      "[ 0. 37. 73. 46. 76. 62. 22. 30. 30. 88.]\n",
      "[37.  0. 42. 83.  4. 87. 98.  8. 64. 59.]\n",
      "[73. 42.  0.  5. 47. 12. 23. 53. 47. 81.]\n",
      "[46. 83.  5.  0. 93. 23. 67. 59. 73. 65.]\n",
      "[76.  4. 47. 93.  0. 35. 90. 29. 17. 91.]\n",
      "[62. 87. 12. 23. 35.  0. 49. 84.  8. 58.]\n",
      "[22. 98. 23. 67. 90. 49.  0. 38. 65. 13.]\n",
      "[30.  8. 53. 59. 29. 84. 38.  0. 83. 46.]\n",
      "[30. 64. 47. 73. 17.  8. 65. 83.  0. 59.]\n",
      "[88. 59. 81. 65. 91. 58. 13. 46. 59.  0.]\n",
      "(2, 2)\n",
      "((0, 3, 2, 5, 8, 4, 1, 7, 9, 6), 181.0)\n",
      "Elapsed (after compilation) = 30.775622367858887\n",
      "(0, 3, 2, 5, 8, 4, 1, 7, 9, 6) 181.0\n"
     ]
    }
   ],
   "source": [
    "cities = 11\n",
    "city_numbers = np.zeros(cities,dtype=np.int32)\n",
    "for i in range(cities):\n",
    "    city_numbers[i] = i\n",
    "    \n",
    "city_matrix = create_matrix(cities)\n",
    "for i in city_matrix:\n",
    "    print(i)\n",
    "\n",
    "TPB = 4\n",
    "threadsperblock = (TPB,TPB)\n",
    "blockspergrid_x = int(np.ceil(cities)/threadsperblock[0])\n",
    "blockspergrid_y = int(np.ceil(cities)/threadsperblock[1])\n",
    "blockspergrid = (blockspergrid_x,blockspergrid_y)\n",
    "\n",
    "print(blockspergrid)\n",
    "\n",
    "print(tsp_fast(city_numbers,city_matrix))\n",
    "\n",
    "start = time()\n",
    "x = tsp_fast(city_numbers,city_matrix)\n",
    "end = time()\n",
    "print(\"Elapsed (after compilation) = %s\" % (end - start))\n",
    "print(x[0],x[1])\n"
   ]
  },
  {
   "cell_type": "code",
   "execution_count": null,
   "metadata": {},
   "outputs": [],
   "source": []
  }
 ],
 "metadata": {
  "interpreter": {
   "hash": "ead906abcf63a9deccd837a67dc7a5157922fdc369eb532470944f1d47e1710d"
  },
  "kernelspec": {
   "display_name": "Python 3.9.5 64-bit",
   "language": "python",
   "name": "python3"
  },
  "language_info": {
   "codemirror_mode": {
    "name": "ipython",
    "version": 3
   },
   "file_extension": ".py",
   "mimetype": "text/x-python",
   "name": "python",
   "nbconvert_exporter": "python",
   "pygments_lexer": "ipython3",
   "version": "3.9.5"
  },
  "orig_nbformat": 4
 },
 "nbformat": 4,
 "nbformat_minor": 2
}
