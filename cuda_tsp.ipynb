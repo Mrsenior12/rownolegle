{
 "cells": [
  {
   "cell_type": "code",
   "execution_count": 1,
   "metadata": {},
   "outputs": [],
   "source": [
    "import numpy as np\n",
    "from numba import jit\n",
    "from random import randint\n",
    "from time import time\n",
    "from itertools import permutations\n",
    "\n"
   ]
  },
  {
   "cell_type": "code",
   "execution_count": 2,
   "metadata": {},
   "outputs": [],
   "source": [
    "def create_matrix(city_count):\n",
    "    city_list = np.zeros(shape=(city_count,city_count))\n",
    "    for row in range(city_count):\n",
    "        for column in range(city_count):\n",
    "            if column==row:\n",
    "                continue\n",
    "            elif column < row:\n",
    "                city_list[row][column] = city_list[column][row]\n",
    "            else:\n",
    "                city_list[row][column] = randint(1,100)\n",
    "    return city_list\n"
   ]
  },
  {
   "cell_type": "code",
   "execution_count": 3,
   "metadata": {},
   "outputs": [],
   "source": [
    "jit(nopython=True)\n",
    "def permutations_fast(lista):\n",
    "    if len(lista) == 0:\n",
    "        return []\n",
    "    if len(lista)==1:\n",
    "        return [lista]\n",
    "    permList = []\n",
    "    for i in range(len(lista)):\n",
    "        m = lista[i]\n",
    "        remLista = lista[:i] + lista[i+1:]\n",
    "        for p in permutations_fast(remLista):\n",
    "            permList.append([m] + p)\n",
    "    \n",
    "    return permList\n"
   ]
  },
  {
   "cell_type": "code",
   "execution_count": 4,
   "metadata": {},
   "outputs": [],
   "source": [
    "jit(nopython=True)\n",
    "def do_sum_fast(city_matrix,path):\n",
    "    sum_of_path = 0\n",
    "    starting_city = path[0]\n",
    "    for city in range(len(path)-1):\n",
    "        sum_of_path += city_matrix[starting_city][path[city+1]]\n",
    "        starting_city = path[city+1]\n",
    "\n",
    "    sum_of_path += city_matrix[starting_city][path[0]] \n",
    "    return sum_of_path"
   ]
  },
  {
   "cell_type": "code",
   "execution_count": 5,
   "metadata": {},
   "outputs": [],
   "source": [
    "jit(nopython=True)\n",
    "def tsp_fast(city_numbers,city_matrix):\n",
    "    min_path = 999999999\n",
    "    path = []\n",
    "    for perm in permutations(city_numbers):\n",
    "        sum_of_perm = do_sum_fast(city_matrix,perm)\n",
    "        if sum_of_perm < min_path:\n",
    "            min_path = sum_of_perm\n",
    "            path = perm\n",
    "    return (path,min_path)\n"
   ]
  },
  {
   "cell_type": "code",
   "execution_count": 6,
   "metadata": {},
   "outputs": [
    {
     "name": "stdout",
     "output_type": "stream",
     "text": [
      "[ 0. 46. 75.  2. 16. 89. 90. 35.]\n",
      "[46.  0. 60. 44. 66. 49. 35. 91.]\n",
      "[75. 60.  0. 94. 67. 87. 69. 68.]\n",
      "[ 2. 44. 94.  0. 49. 59. 11. 16.]\n",
      "[16. 66. 67. 49.  0. 85. 19. 46.]\n",
      "[89. 49. 87. 59. 85.  0. 82. 53.]\n",
      "[90. 35. 69. 11. 19. 82.  0. 74.]\n",
      "[35. 91. 68. 16. 46. 53. 74.  0.]\n",
      "(2, 2)\n",
      "((0, 3, 7, 5, 1, 2, 6, 4), 284.0)\n",
      "Elapsed (after compilation) = 0.6676154136657715\n",
      "(0, 3, 7, 5, 1, 2, 6, 4) 284.0\n"
     ]
    }
   ],
   "source": [
    "cities = 8\n",
    "city_numbers = np.zeros(cities,dtype=np.int32)\n",
    "for i in range(cities):\n",
    "    city_numbers[i] = i\n",
    "    \n",
    "city_matrix = create_matrix(cities)\n",
    "for i in city_matrix:\n",
    "    print(i)\n",
    "\n",
    "TPB = 4\n",
    "threadsperblock = (TPB,TPB)\n",
    "blockspergrid_x = int(np.ceil(cities)/threadsperblock[0])\n",
    "blockspergrid_y = int(np.ceil(cities)/threadsperblock[1])\n",
    "blockspergrid = (blockspergrid_x,blockspergrid_y)\n",
    "\n",
    "print(blockspergrid)\n",
    "\n",
    "print(tsp_fast(city_numbers,city_matrix))\n",
    "\n",
    "start = time()\n",
    "x = tsp_fast(city_numbers,city_matrix)\n",
    "end = time()\n",
    "print(\"Elapsed (after compilation) = %s\" % (end - start))\n",
    "print(x[0],x[1])\n"
   ]
  }
 ],
 "metadata": {
  "interpreter": {
   "hash": "41de035b88a2c53001ee3ca30b012fb884e78c958c3b1bc6a995ab9a32c52632"
  },
  "kernelspec": {
   "display_name": "Python 3.9.6 64-bit",
   "language": "python",
   "name": "python3"
  },
  "language_info": {
   "codemirror_mode": {
    "name": "ipython",
    "version": 3
   },
   "file_extension": ".py",
   "mimetype": "text/x-python",
   "name": "python",
   "nbconvert_exporter": "python",
   "pygments_lexer": "ipython3",
   "version": "3.9.6"
  },
  "orig_nbformat": 4
 },
 "nbformat": 4,
 "nbformat_minor": 2
}
